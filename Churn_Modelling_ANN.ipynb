{
 "cells": [
  {
   "cell_type": "code",
   "execution_count": 1,
   "metadata": {},
   "outputs": [
    {
     "name": "stdout",
     "output_type": "stream",
     "text": [
      "      RowNumber  CustomerId         Surname  CreditScore Geography  Gender  \\\n",
      "0             1    15634602        Hargrave          619    France  Female   \n",
      "1             2    15647311            Hill          608     Spain  Female   \n",
      "2             3    15619304            Onio          502    France  Female   \n",
      "3             4    15701354            Boni          699    France  Female   \n",
      "4             5    15737888        Mitchell          850     Spain  Female   \n",
      "5             6    15574012             Chu          645     Spain    Male   \n",
      "6             7    15592531        Bartlett          822    France    Male   \n",
      "7             8    15656148          Obinna          376   Germany  Female   \n",
      "8             9    15792365              He          501    France    Male   \n",
      "9            10    15592389              H?          684    France    Male   \n",
      "10           11    15767821          Bearce          528    France    Male   \n",
      "11           12    15737173         Andrews          497     Spain    Male   \n",
      "12           13    15632264             Kay          476    France  Female   \n",
      "13           14    15691483            Chin          549    France  Female   \n",
      "14           15    15600882           Scott          635     Spain  Female   \n",
      "15           16    15643966         Goforth          616   Germany    Male   \n",
      "16           17    15737452           Romeo          653   Germany    Male   \n",
      "17           18    15788218       Henderson          549     Spain  Female   \n",
      "18           19    15661507         Muldrow          587     Spain    Male   \n",
      "19           20    15568982             Hao          726    France  Female   \n",
      "20           21    15577657        McDonald          732    France    Male   \n",
      "21           22    15597945        Dellucci          636     Spain  Female   \n",
      "22           23    15699309       Gerasimov          510     Spain  Female   \n",
      "23           24    15725737          Mosman          669    France    Male   \n",
      "24           25    15625047             Yen          846    France  Female   \n",
      "25           26    15738191         Maclean          577    France    Male   \n",
      "26           27    15736816           Young          756   Germany    Male   \n",
      "27           28    15700772         Nebechi          571    France    Male   \n",
      "28           29    15728693      McWilliams          574   Germany  Female   \n",
      "29           30    15656300        Lucciano          411    France    Male   \n",
      "...         ...         ...             ...          ...       ...     ...   \n",
      "9970       9971    15587133        Thompson          518    France    Male   \n",
      "9971       9972    15721377            Chou          833    France  Female   \n",
      "9972       9973    15747927           Ch'in          758    France    Male   \n",
      "9973       9974    15806455          Miller          611    France    Male   \n",
      "9974       9975    15695474          Barker          583    France    Male   \n",
      "9975       9976    15666295           Smith          610   Germany    Male   \n",
      "9976       9977    15656062         Azikiwe          637    France  Female   \n",
      "9977       9978    15579969         Mancini          683    France  Female   \n",
      "9978       9979    15703563           P'eng          774    France    Male   \n",
      "9979       9980    15692664          Diribe          677    France  Female   \n",
      "9980       9981    15719276            T'ao          741     Spain    Male   \n",
      "9981       9982    15672754        Burbidge          498   Germany    Male   \n",
      "9982       9983    15768163         Griffin          655   Germany  Female   \n",
      "9983       9984    15656710           Cocci          613    France    Male   \n",
      "9984       9985    15696175  Echezonachukwu          602   Germany    Male   \n",
      "9985       9986    15586914          Nepean          659    France    Male   \n",
      "9986       9987    15581736        Bartlett          673   Germany    Male   \n",
      "9987       9988    15588839         Mancini          606     Spain    Male   \n",
      "9988       9989    15589329         Pirozzi          775    France    Male   \n",
      "9989       9990    15605622        McMillan          841     Spain    Male   \n",
      "9990       9991    15798964      Nkemakonam          714   Germany    Male   \n",
      "9991       9992    15769959     Ajuluchukwu          597    France  Female   \n",
      "9992       9993    15657105     Chukwualuka          726     Spain    Male   \n",
      "9993       9994    15569266          Rahman          644    France    Male   \n",
      "9994       9995    15719294            Wood          800    France  Female   \n",
      "9995       9996    15606229        Obijiaku          771    France    Male   \n",
      "9996       9997    15569892       Johnstone          516    France    Male   \n",
      "9997       9998    15584532             Liu          709    France  Female   \n",
      "9998       9999    15682355       Sabbatini          772   Germany    Male   \n",
      "9999      10000    15628319          Walker          792    France  Female   \n",
      "\n",
      "      Age  Tenure    Balance  NumOfProducts  HasCrCard  IsActiveMember  \\\n",
      "0      42       2       0.00              1          1               1   \n",
      "1      41       1   83807.86              1          0               1   \n",
      "2      42       8  159660.80              3          1               0   \n",
      "3      39       1       0.00              2          0               0   \n",
      "4      43       2  125510.82              1          1               1   \n",
      "5      44       8  113755.78              2          1               0   \n",
      "6      50       7       0.00              2          1               1   \n",
      "7      29       4  115046.74              4          1               0   \n",
      "8      44       4  142051.07              2          0               1   \n",
      "9      27       2  134603.88              1          1               1   \n",
      "10     31       6  102016.72              2          0               0   \n",
      "11     24       3       0.00              2          1               0   \n",
      "12     34      10       0.00              2          1               0   \n",
      "13     25       5       0.00              2          0               0   \n",
      "14     35       7       0.00              2          1               1   \n",
      "15     45       3  143129.41              2          0               1   \n",
      "16     58       1  132602.88              1          1               0   \n",
      "17     24       9       0.00              2          1               1   \n",
      "18     45       6       0.00              1          0               0   \n",
      "19     24       6       0.00              2          1               1   \n",
      "20     41       8       0.00              2          1               1   \n",
      "21     32       8       0.00              2          1               0   \n",
      "22     38       4       0.00              1          1               0   \n",
      "23     46       3       0.00              2          0               1   \n",
      "24     38       5       0.00              1          1               1   \n",
      "25     25       3       0.00              2          0               1   \n",
      "26     36       2  136815.64              1          1               1   \n",
      "27     44       9       0.00              2          0               0   \n",
      "28     43       3  141349.43              1          1               1   \n",
      "29     29       0   59697.17              2          1               1   \n",
      "...   ...     ...        ...            ...        ...             ...   \n",
      "9970   42       7  151027.05              2          1               0   \n",
      "9971   34       3  144751.81              1          0               0   \n",
      "9972   26       4  155739.76              1          1               0   \n",
      "9973   27       7       0.00              2          1               1   \n",
      "9974   33       7  122531.86              1          1               0   \n",
      "9975   50       1  113957.01              2          1               0   \n",
      "9976   33       7  103377.81              1          1               0   \n",
      "9977   32       9       0.00              2          1               1   \n",
      "9978   40       9   93017.47              2          1               0   \n",
      "9979   58       1   90022.85              1          0               1   \n",
      "9980   35       6   74371.49              1          0               0   \n",
      "9981   42       3  152039.70              1          1               1   \n",
      "9982   46       7  137145.12              1          1               0   \n",
      "9983   40       4       0.00              1          0               0   \n",
      "9984   35       7   90602.42              2          1               1   \n",
      "9985   36       6  123841.49              2          1               0   \n",
      "9986   47       1  183579.54              2          0               1   \n",
      "9987   30       8  180307.73              2          1               1   \n",
      "9988   30       4       0.00              2          1               0   \n",
      "9989   28       4       0.00              2          1               1   \n",
      "9990   33       3   35016.60              1          1               0   \n",
      "9991   53       4   88381.21              1          1               0   \n",
      "9992   36       2       0.00              1          1               0   \n",
      "9993   28       7  155060.41              1          1               0   \n",
      "9994   29       2       0.00              2          0               0   \n",
      "9995   39       5       0.00              2          1               0   \n",
      "9996   35      10   57369.61              1          1               1   \n",
      "9997   36       7       0.00              1          0               1   \n",
      "9998   42       3   75075.31              2          1               0   \n",
      "9999   28       4  130142.79              1          1               0   \n",
      "\n",
      "      EstimatedSalary  Exited  \n",
      "0           101348.88       1  \n",
      "1           112542.58       0  \n",
      "2           113931.57       1  \n",
      "3            93826.63       0  \n",
      "4            79084.10       0  \n",
      "5           149756.71       1  \n",
      "6            10062.80       0  \n",
      "7           119346.88       1  \n",
      "8            74940.50       0  \n",
      "9            71725.73       0  \n",
      "10           80181.12       0  \n",
      "11           76390.01       0  \n",
      "12           26260.98       0  \n",
      "13          190857.79       0  \n",
      "14           65951.65       0  \n",
      "15           64327.26       0  \n",
      "16            5097.67       1  \n",
      "17           14406.41       0  \n",
      "18          158684.81       0  \n",
      "19           54724.03       0  \n",
      "20          170886.17       0  \n",
      "21          138555.46       0  \n",
      "22          118913.53       1  \n",
      "23            8487.75       0  \n",
      "24          187616.16       0  \n",
      "25          124508.29       0  \n",
      "26          170041.95       0  \n",
      "27           38433.35       0  \n",
      "28          100187.43       0  \n",
      "29           53483.21       0  \n",
      "...               ...     ...  \n",
      "9970        119377.36       0  \n",
      "9971        166472.81       0  \n",
      "9972        171552.02       0  \n",
      "9973        157474.10       0  \n",
      "9974         13549.24       0  \n",
      "9975        196526.55       1  \n",
      "9976         84419.78       0  \n",
      "9977         24991.92       0  \n",
      "9978        191608.97       0  \n",
      "9979          2988.28       0  \n",
      "9980         99595.67       0  \n",
      "9981         53445.17       1  \n",
      "9982        115146.40       1  \n",
      "9983        151325.24       0  \n",
      "9984         51695.41       0  \n",
      "9985         96833.00       0  \n",
      "9986         34047.54       0  \n",
      "9987          1914.41       0  \n",
      "9988         49337.84       0  \n",
      "9989        179436.60       0  \n",
      "9990         53667.08       0  \n",
      "9991         69384.71       1  \n",
      "9992        195192.40       0  \n",
      "9993         29179.52       0  \n",
      "9994        167773.55       0  \n",
      "9995         96270.64       0  \n",
      "9996        101699.77       0  \n",
      "9997         42085.58       1  \n",
      "9998         92888.52       1  \n",
      "9999         38190.78       0  \n",
      "\n",
      "[10000 rows x 14 columns]\n"
     ]
    }
   ],
   "source": [
    "import pandas as pd\n",
    "\n",
    "#Reading dataset\n",
    "df=pd.read_csv(r\"C:.../Churn_Modelling.csv\")\n",
    "print(df)"
   ]
  },
  {
   "cell_type": "code",
   "execution_count": 2,
   "metadata": {},
   "outputs": [
    {
     "data": {
      "text/html": [
       "<div>\n",
       "<style scoped>\n",
       "    .dataframe tbody tr th:only-of-type {\n",
       "        vertical-align: middle;\n",
       "    }\n",
       "\n",
       "    .dataframe tbody tr th {\n",
       "        vertical-align: top;\n",
       "    }\n",
       "\n",
       "    .dataframe thead th {\n",
       "        text-align: right;\n",
       "    }\n",
       "</style>\n",
       "<table border=\"1\" class=\"dataframe\">\n",
       "  <thead>\n",
       "    <tr style=\"text-align: right;\">\n",
       "      <th></th>\n",
       "      <th>RowNumber</th>\n",
       "      <th>CustomerId</th>\n",
       "      <th>Surname</th>\n",
       "      <th>CreditScore</th>\n",
       "      <th>Geography</th>\n",
       "      <th>Gender</th>\n",
       "      <th>Age</th>\n",
       "      <th>Tenure</th>\n",
       "      <th>Balance</th>\n",
       "      <th>NumOfProducts</th>\n",
       "      <th>HasCrCard</th>\n",
       "      <th>IsActiveMember</th>\n",
       "      <th>EstimatedSalary</th>\n",
       "      <th>Exited</th>\n",
       "    </tr>\n",
       "  </thead>\n",
       "  <tbody>\n",
       "    <tr>\n",
       "      <th>0</th>\n",
       "      <td>1</td>\n",
       "      <td>15634602</td>\n",
       "      <td>Hargrave</td>\n",
       "      <td>619</td>\n",
       "      <td>France</td>\n",
       "      <td>Female</td>\n",
       "      <td>42</td>\n",
       "      <td>2</td>\n",
       "      <td>0.00</td>\n",
       "      <td>1</td>\n",
       "      <td>1</td>\n",
       "      <td>1</td>\n",
       "      <td>101348.88</td>\n",
       "      <td>1</td>\n",
       "    </tr>\n",
       "    <tr>\n",
       "      <th>1</th>\n",
       "      <td>2</td>\n",
       "      <td>15647311</td>\n",
       "      <td>Hill</td>\n",
       "      <td>608</td>\n",
       "      <td>Spain</td>\n",
       "      <td>Female</td>\n",
       "      <td>41</td>\n",
       "      <td>1</td>\n",
       "      <td>83807.86</td>\n",
       "      <td>1</td>\n",
       "      <td>0</td>\n",
       "      <td>1</td>\n",
       "      <td>112542.58</td>\n",
       "      <td>0</td>\n",
       "    </tr>\n",
       "    <tr>\n",
       "      <th>2</th>\n",
       "      <td>3</td>\n",
       "      <td>15619304</td>\n",
       "      <td>Onio</td>\n",
       "      <td>502</td>\n",
       "      <td>France</td>\n",
       "      <td>Female</td>\n",
       "      <td>42</td>\n",
       "      <td>8</td>\n",
       "      <td>159660.80</td>\n",
       "      <td>3</td>\n",
       "      <td>1</td>\n",
       "      <td>0</td>\n",
       "      <td>113931.57</td>\n",
       "      <td>1</td>\n",
       "    </tr>\n",
       "    <tr>\n",
       "      <th>3</th>\n",
       "      <td>4</td>\n",
       "      <td>15701354</td>\n",
       "      <td>Boni</td>\n",
       "      <td>699</td>\n",
       "      <td>France</td>\n",
       "      <td>Female</td>\n",
       "      <td>39</td>\n",
       "      <td>1</td>\n",
       "      <td>0.00</td>\n",
       "      <td>2</td>\n",
       "      <td>0</td>\n",
       "      <td>0</td>\n",
       "      <td>93826.63</td>\n",
       "      <td>0</td>\n",
       "    </tr>\n",
       "    <tr>\n",
       "      <th>4</th>\n",
       "      <td>5</td>\n",
       "      <td>15737888</td>\n",
       "      <td>Mitchell</td>\n",
       "      <td>850</td>\n",
       "      <td>Spain</td>\n",
       "      <td>Female</td>\n",
       "      <td>43</td>\n",
       "      <td>2</td>\n",
       "      <td>125510.82</td>\n",
       "      <td>1</td>\n",
       "      <td>1</td>\n",
       "      <td>1</td>\n",
       "      <td>79084.10</td>\n",
       "      <td>0</td>\n",
       "    </tr>\n",
       "  </tbody>\n",
       "</table>\n",
       "</div>"
      ],
      "text/plain": [
       "   RowNumber  CustomerId   Surname  CreditScore Geography  Gender  Age  \\\n",
       "0          1    15634602  Hargrave          619    France  Female   42   \n",
       "1          2    15647311      Hill          608     Spain  Female   41   \n",
       "2          3    15619304      Onio          502    France  Female   42   \n",
       "3          4    15701354      Boni          699    France  Female   39   \n",
       "4          5    15737888  Mitchell          850     Spain  Female   43   \n",
       "\n",
       "   Tenure    Balance  NumOfProducts  HasCrCard  IsActiveMember  \\\n",
       "0       2       0.00              1          1               1   \n",
       "1       1   83807.86              1          0               1   \n",
       "2       8  159660.80              3          1               0   \n",
       "3       1       0.00              2          0               0   \n",
       "4       2  125510.82              1          1               1   \n",
       "\n",
       "   EstimatedSalary  Exited  \n",
       "0        101348.88       1  \n",
       "1        112542.58       0  \n",
       "2        113931.57       1  \n",
       "3         93826.63       0  \n",
       "4         79084.10       0  "
      ]
     },
     "execution_count": 2,
     "metadata": {},
     "output_type": "execute_result"
    }
   ],
   "source": [
    "df.head()"
   ]
  },
  {
   "cell_type": "code",
   "execution_count": 3,
   "metadata": {},
   "outputs": [],
   "source": [
    "import numpy as np\n",
    "import matplotlib.pyplot as plt\n",
    "import pandas as pd"
   ]
  },
  {
   "cell_type": "code",
   "execution_count": 4,
   "metadata": {},
   "outputs": [
    {
     "data": {
      "text/plain": [
       "(10000, 14)"
      ]
     },
     "execution_count": 4,
     "metadata": {},
     "output_type": "execute_result"
    }
   ],
   "source": [
    "df.shape"
   ]
  },
  {
   "cell_type": "code",
   "execution_count": 5,
   "metadata": {},
   "outputs": [],
   "source": [
    "y=df['Exited']\n",
    "x=df.drop(['RowNumber', 'CustomerId', 'Surname', 'Exited'], axis=1, inplace=False)\n"
   ]
  },
  {
   "cell_type": "code",
   "execution_count": 6,
   "metadata": {},
   "outputs": [
    {
     "data": {
      "text/plain": [
       "(10000,)"
      ]
     },
     "execution_count": 6,
     "metadata": {},
     "output_type": "execute_result"
    }
   ],
   "source": [
    "y.shape"
   ]
  },
  {
   "cell_type": "code",
   "execution_count": 7,
   "metadata": {},
   "outputs": [
    {
     "data": {
      "text/plain": [
       "(10000, 10)"
      ]
     },
     "execution_count": 7,
     "metadata": {},
     "output_type": "execute_result"
    }
   ],
   "source": [
    "x.shape"
   ]
  },
  {
   "cell_type": "code",
   "execution_count": 8,
   "metadata": {},
   "outputs": [],
   "source": [
    "#create dummy variables\n",
    "geography = pd.get_dummies(x['Geography'], drop_first=True)\n",
    "gender = pd.get_dummies(x['Gender'], drop_first=True)"
   ]
  },
  {
   "cell_type": "code",
   "execution_count": 9,
   "metadata": {},
   "outputs": [],
   "source": [
    "## Concatenate the Data Frames\n",
    "x = pd.concat([x,geography,gender],axis=1)"
   ]
  },
  {
   "cell_type": "code",
   "execution_count": 10,
   "metadata": {},
   "outputs": [
    {
     "data": {
      "text/plain": [
       "(10000, 13)"
      ]
     },
     "execution_count": 10,
     "metadata": {},
     "output_type": "execute_result"
    }
   ],
   "source": [
    "x.shape"
   ]
  },
  {
   "cell_type": "code",
   "execution_count": 11,
   "metadata": {},
   "outputs": [],
   "source": [
    "#drop unnecessary variables\n",
    "x = x.drop(['Geography', 'Gender'],axis=1)"
   ]
  },
  {
   "cell_type": "code",
   "execution_count": 12,
   "metadata": {},
   "outputs": [],
   "source": [
    "# Splitting the dataset into the Training set and Test set\n",
    "from sklearn.model_selection import train_test_split\n",
    "x_train, x_test, y_train, y_test = train_test_split(x, y, test_size = 0.2, random_state = 0)"
   ]
  },
  {
   "cell_type": "code",
   "execution_count": 13,
   "metadata": {},
   "outputs": [],
   "source": [
    "#feature scaling\n",
    "from sklearn.preprocessing import StandardScaler\n",
    "sc = StandardScaler()\n",
    "x_train = sc.fit_transform(x_train)\n",
    "x_test = sc.transform(x_test)"
   ]
  },
  {
   "cell_type": "code",
   "execution_count": 14,
   "metadata": {},
   "outputs": [
    {
     "name": "stderr",
     "output_type": "stream",
     "text": [
      "C:\\Users\\Prathyusha\\Anaconda3\\lib\\site-packages\\h5py\\__init__.py:36: FutureWarning: Conversion of the second argument of issubdtype from `float` to `np.floating` is deprecated. In future, it will be treated as `np.float64 == np.dtype(float).type`.\n",
      "  from ._conv import register_converters as _register_converters\n",
      "Using TensorFlow backend.\n"
     ]
    }
   ],
   "source": [
    "#ann\n",
    "import keras\n",
    "from keras.models import Sequential\n",
    "from keras.layers import Dense\n",
    "from keras.layers import LeakyReLU,PReLU,ELU\n",
    "from keras.layers import Dropout"
   ]
  },
  {
   "cell_type": "code",
   "execution_count": 15,
   "metadata": {},
   "outputs": [],
   "source": [
    "#initializing the ANN\n",
    "classifier = Sequential()"
   ]
  },
  {
   "cell_type": "code",
   "execution_count": 16,
   "metadata": {},
   "outputs": [],
   "source": [
    "# Adding the input layer and the first hidden layer\n",
    "classifier.add(Dense(units=6, kernel_initializer = 'he_uniform', activation='relu', input_dim=11))"
   ]
  },
  {
   "cell_type": "code",
   "execution_count": 17,
   "metadata": {},
   "outputs": [],
   "source": [
    "# Adding the second hidden layer\n",
    "classifier.add(Dense(units=6, kernel_initializer = 'he_uniform', activation='relu'))"
   ]
  },
  {
   "cell_type": "code",
   "execution_count": 18,
   "metadata": {},
   "outputs": [],
   "source": [
    "# Adding the output layer\n",
    "classifier.add(Dense(units=1, kernel_initializer = 'glorot_uniform', activation='sigmoid'))"
   ]
  },
  {
   "cell_type": "code",
   "execution_count": 19,
   "metadata": {},
   "outputs": [],
   "source": [
    "# Compiling the ANN\n",
    "classifier.compile(optimizer='Adamax', loss = 'binary_crossentropy', metrics = ['accuracy'])"
   ]
  },
  {
   "cell_type": "code",
   "execution_count": 20,
   "metadata": {},
   "outputs": [
    {
     "name": "stdout",
     "output_type": "stream",
     "text": [
      "Train on 5359 samples, validate on 2641 samples\n",
      "Epoch 1/100\n",
      "5359/5359 [==============================] - 6s 1ms/step - loss: 0.6265 - acc: 0.7042 - val_loss: 0.5388 - val_acc: 0.7925\n",
      "Epoch 2/100\n",
      "5359/5359 [==============================] - 2s 339us/step - loss: 0.5107 - acc: 0.7953 - val_loss: 0.4957 - val_acc: 0.7955\n",
      "Epoch 3/100\n",
      "5359/5359 [==============================] - 2s 353us/step - loss: 0.4824 - acc: 0.7962 - val_loss: 0.4774 - val_acc: 0.7955\n",
      "Epoch 4/100\n",
      "5359/5359 [==============================] - 2s 331us/step - loss: 0.4662 - acc: 0.7962 - val_loss: 0.4645 - val_acc: 0.7955\n",
      "Epoch 5/100\n",
      "5359/5359 [==============================] - 2s 335us/step - loss: 0.4533 - acc: 0.7962 - val_loss: 0.4537 - val_acc: 0.7955\n",
      "Epoch 6/100\n",
      "5359/5359 [==============================] - 2s 354us/step - loss: 0.4431 - acc: 0.7968 - val_loss: 0.4466 - val_acc: 0.7967\n",
      "Epoch 7/100\n",
      "5359/5359 [==============================] - 2s 336us/step - loss: 0.4359 - acc: 0.7977 - val_loss: 0.4414 - val_acc: 0.8001\n",
      "Epoch 8/100\n",
      "5359/5359 [==============================] - 2s 336us/step - loss: 0.4303 - acc: 0.7996 - val_loss: 0.4374 - val_acc: 0.7986\n",
      "Epoch 9/100\n",
      "5359/5359 [==============================] - 2s 375us/step - loss: 0.4260 - acc: 0.8022 - val_loss: 0.4337 - val_acc: 0.7993\n",
      "Epoch 10/100\n",
      "5359/5359 [==============================] - 2s 401us/step - loss: 0.4221 - acc: 0.8048 - val_loss: 0.4306 - val_acc: 0.8008\n",
      "Epoch 11/100\n",
      "5359/5359 [==============================] - 2s 426us/step - loss: 0.4187 - acc: 0.8072 - val_loss: 0.4275 - val_acc: 0.8020\n",
      "Epoch 12/100\n",
      "5359/5359 [==============================] - 2s 397us/step - loss: 0.4155 - acc: 0.8099 - val_loss: 0.4243 - val_acc: 0.8069\n",
      "Epoch 13/100\n",
      "5359/5359 [==============================] - 2s 399us/step - loss: 0.4121 - acc: 0.8138 - val_loss: 0.4212 - val_acc: 0.8118\n",
      "Epoch 14/100\n",
      "5359/5359 [==============================] - 2s 425us/step - loss: 0.4084 - acc: 0.8186 - val_loss: 0.4180 - val_acc: 0.8164\n",
      "Epoch 15/100\n",
      "5359/5359 [==============================] - 2s 402us/step - loss: 0.4047 - acc: 0.8253 - val_loss: 0.4146 - val_acc: 0.8183\n",
      "Epoch 16/100\n",
      "5359/5359 [==============================] - 2s 428us/step - loss: 0.4012 - acc: 0.8294 - val_loss: 0.4113 - val_acc: 0.8243\n",
      "Epoch 17/100\n",
      "5359/5359 [==============================] - 2s 399us/step - loss: 0.3976 - acc: 0.8343 - val_loss: 0.4088 - val_acc: 0.8254\n",
      "Epoch 18/100\n",
      "5359/5359 [==============================] - 2s 400us/step - loss: 0.3936 - acc: 0.8373 - val_loss: 0.4056 - val_acc: 0.8289\n",
      "Epoch 19/100\n",
      "5359/5359 [==============================] - 2s 427us/step - loss: 0.3890 - acc: 0.8406 - val_loss: 0.4020 - val_acc: 0.8311\n",
      "Epoch 20/100\n",
      "5359/5359 [==============================] - 2s 403us/step - loss: 0.3842 - acc: 0.8425 - val_loss: 0.3984 - val_acc: 0.8334\n",
      "Epoch 21/100\n",
      "5359/5359 [==============================] - 2s 433us/step - loss: 0.3790 - acc: 0.8474 - val_loss: 0.3946 - val_acc: 0.8353\n",
      "Epoch 22/100\n",
      "5359/5359 [==============================] - 2s 397us/step - loss: 0.3741 - acc: 0.8490 - val_loss: 0.3904 - val_acc: 0.8395\n",
      "Epoch 23/100\n",
      "5359/5359 [==============================] - 2s 419us/step - loss: 0.3696 - acc: 0.8518 - val_loss: 0.3872 - val_acc: 0.8391\n",
      "Epoch 24/100\n",
      "5359/5359 [==============================] - 2s 432us/step - loss: 0.3657 - acc: 0.8531 - val_loss: 0.3835 - val_acc: 0.8425\n",
      "Epoch 25/100\n",
      "5359/5359 [==============================] - 3s 499us/step - loss: 0.3620 - acc: 0.8545 - val_loss: 0.3806 - val_acc: 0.8466\n",
      "Epoch 26/100\n",
      "5359/5359 [==============================] - 3s 496us/step - loss: 0.3586 - acc: 0.8576 - val_loss: 0.3777 - val_acc: 0.8440\n",
      "Epoch 27/100\n",
      "5359/5359 [==============================] - 3s 652us/step - loss: 0.3553 - acc: 0.8574 - val_loss: 0.3756 - val_acc: 0.8466\n",
      "Epoch 28/100\n",
      "5359/5359 [==============================] - 2s 451us/step - loss: 0.3523 - acc: 0.8572 - val_loss: 0.3730 - val_acc: 0.8501\n",
      "Epoch 29/100\n",
      "5359/5359 [==============================] - 2s 394us/step - loss: 0.3500 - acc: 0.8602 - val_loss: 0.3714 - val_acc: 0.8470\n",
      "Epoch 30/100\n",
      "5359/5359 [==============================] - 2s 432us/step - loss: 0.3479 - acc: 0.8593 - val_loss: 0.3698 - val_acc: 0.8512\n",
      "Epoch 31/100\n",
      "5359/5359 [==============================] - 3s 545us/step - loss: 0.3458 - acc: 0.8600 - val_loss: 0.3687 - val_acc: 0.8512\n",
      "Epoch 32/100\n",
      "5359/5359 [==============================] - 3s 650us/step - loss: 0.3446 - acc: 0.8599 - val_loss: 0.3676 - val_acc: 0.8508\n",
      "Epoch 33/100\n",
      "5359/5359 [==============================] - 2s 437us/step - loss: 0.3434 - acc: 0.8602 - val_loss: 0.3669 - val_acc: 0.8516\n",
      "Epoch 34/100\n",
      "5359/5359 [==============================] - 2s 430us/step - loss: 0.3424 - acc: 0.8595 - val_loss: 0.3667 - val_acc: 0.8520\n",
      "Epoch 35/100\n",
      "5359/5359 [==============================] - 2s 400us/step - loss: 0.3412 - acc: 0.8595 - val_loss: 0.3656 - val_acc: 0.8520\n",
      "Epoch 36/100\n",
      "5359/5359 [==============================] - 2s 429us/step - loss: 0.3406 - acc: 0.8615 - val_loss: 0.3657 - val_acc: 0.8516\n",
      "Epoch 37/100\n",
      "5359/5359 [==============================] - 2s 415us/step - loss: 0.3400 - acc: 0.8627 - val_loss: 0.3649 - val_acc: 0.8504\n",
      "Epoch 38/100\n",
      "5359/5359 [==============================] - 2s 405us/step - loss: 0.3394 - acc: 0.8628 - val_loss: 0.3647 - val_acc: 0.8508\n",
      "Epoch 39/100\n",
      "5359/5359 [==============================] - 2s 425us/step - loss: 0.3389 - acc: 0.8608 - val_loss: 0.3641 - val_acc: 0.8531\n",
      "Epoch 40/100\n",
      "5359/5359 [==============================] - 2s 393us/step - loss: 0.3385 - acc: 0.8627 - val_loss: 0.3637 - val_acc: 0.8535\n",
      "Epoch 41/100\n",
      "5359/5359 [==============================] - 2s 426us/step - loss: 0.3379 - acc: 0.8628 - val_loss: 0.3636 - val_acc: 0.8535\n",
      "Epoch 42/100\n",
      "5359/5359 [==============================] - 2s 408us/step - loss: 0.3374 - acc: 0.8628 - val_loss: 0.3639 - val_acc: 0.8523\n",
      "Epoch 43/100\n",
      "5359/5359 [==============================] - 2s 409us/step - loss: 0.3372 - acc: 0.8615 - val_loss: 0.3629 - val_acc: 0.8523\n",
      "Epoch 44/100\n",
      "5359/5359 [==============================] - 3s 469us/step - loss: 0.3366 - acc: 0.8612 - val_loss: 0.3628 - val_acc: 0.8535\n",
      "Epoch 45/100\n",
      "5359/5359 [==============================] - 2s 413us/step - loss: 0.3363 - acc: 0.8623 - val_loss: 0.3636 - val_acc: 0.8546\n",
      "Epoch 46/100\n",
      "5359/5359 [==============================] - 2s 432us/step - loss: 0.3360 - acc: 0.8623 - val_loss: 0.3629 - val_acc: 0.8542\n",
      "Epoch 47/100\n",
      "5359/5359 [==============================] - 2s 407us/step - loss: 0.3355 - acc: 0.8615 - val_loss: 0.3627 - val_acc: 0.8546\n",
      "Epoch 48/100\n",
      "5359/5359 [==============================] - 2s 432us/step - loss: 0.3352 - acc: 0.8612 - val_loss: 0.3623 - val_acc: 0.8512\n",
      "Epoch 49/100\n",
      "5359/5359 [==============================] - 2s 396us/step - loss: 0.3352 - acc: 0.8628 - val_loss: 0.3620 - val_acc: 0.8550\n",
      "Epoch 50/100\n",
      "5359/5359 [==============================] - 2s 401us/step - loss: 0.3350 - acc: 0.8623 - val_loss: 0.3618 - val_acc: 0.8535\n",
      "Epoch 51/100\n",
      "5359/5359 [==============================] - 2s 436us/step - loss: 0.3345 - acc: 0.8617 - val_loss: 0.3618 - val_acc: 0.8550\n",
      "Epoch 52/100\n",
      "5359/5359 [==============================] - 2s 402us/step - loss: 0.3348 - acc: 0.8625 - val_loss: 0.3621 - val_acc: 0.8535\n",
      "Epoch 53/100\n",
      "5359/5359 [==============================] - 2s 439us/step - loss: 0.3342 - acc: 0.8623 - val_loss: 0.3620 - val_acc: 0.8531\n",
      "Epoch 54/100\n",
      "5359/5359 [==============================] - 2s 416us/step - loss: 0.3340 - acc: 0.8619 - val_loss: 0.3614 - val_acc: 0.8527\n",
      "Epoch 55/100\n",
      "5359/5359 [==============================] - 2s 432us/step - loss: 0.3339 - acc: 0.8619 - val_loss: 0.3607 - val_acc: 0.8531\n",
      "Epoch 56/100\n",
      "5359/5359 [==============================] - 2s 415us/step - loss: 0.3338 - acc: 0.8627 - val_loss: 0.3608 - val_acc: 0.8542\n",
      "Epoch 57/100\n",
      "5359/5359 [==============================] - 2s 409us/step - loss: 0.3332 - acc: 0.8632 - val_loss: 0.3612 - val_acc: 0.8527\n",
      "Epoch 58/100\n",
      "5359/5359 [==============================] - 2s 440us/step - loss: 0.3331 - acc: 0.8615 - val_loss: 0.3609 - val_acc: 0.8523\n",
      "Epoch 59/100\n",
      "5359/5359 [==============================] - 2s 405us/step - loss: 0.3329 - acc: 0.8636 - val_loss: 0.3607 - val_acc: 0.8520\n",
      "Epoch 60/100\n"
     ]
    },
    {
     "name": "stdout",
     "output_type": "stream",
     "text": [
      "5359/5359 [==============================] - 2s 404us/step - loss: 0.3326 - acc: 0.8628 - val_loss: 0.3614 - val_acc: 0.8535\n",
      "Epoch 61/100\n",
      "5359/5359 [==============================] - 2s 376us/step - loss: 0.3326 - acc: 0.8619 - val_loss: 0.3608 - val_acc: 0.8520\n",
      "Epoch 62/100\n",
      "5359/5359 [==============================] - 2s 386us/step - loss: 0.3325 - acc: 0.8636 - val_loss: 0.3609 - val_acc: 0.8504\n",
      "Epoch 63/100\n",
      "5359/5359 [==============================] - 2s 414us/step - loss: 0.3323 - acc: 0.8623 - val_loss: 0.3610 - val_acc: 0.8512\n",
      "Epoch 64/100\n",
      "5359/5359 [==============================] - 2s 383us/step - loss: 0.3321 - acc: 0.8636 - val_loss: 0.3611 - val_acc: 0.8538\n",
      "Epoch 65/100\n",
      "5359/5359 [==============================] - 2s 400us/step - loss: 0.3318 - acc: 0.8636 - val_loss: 0.3604 - val_acc: 0.8531\n",
      "Epoch 66/100\n",
      "5359/5359 [==============================] - 2s 380us/step - loss: 0.3315 - acc: 0.8660 - val_loss: 0.3608 - val_acc: 0.8531\n",
      "Epoch 67/100\n",
      "5359/5359 [==============================] - 2s 382us/step - loss: 0.3313 - acc: 0.8634 - val_loss: 0.3609 - val_acc: 0.8542\n",
      "Epoch 68/100\n",
      "5359/5359 [==============================] - 2s 422us/step - loss: 0.3313 - acc: 0.8634 - val_loss: 0.3605 - val_acc: 0.8508\n",
      "Epoch 69/100\n",
      "5359/5359 [==============================] - 2s 385us/step - loss: 0.3316 - acc: 0.8623 - val_loss: 0.3609 - val_acc: 0.8523\n",
      "Epoch 70/100\n",
      "5359/5359 [==============================] - 2s 402us/step - loss: 0.3313 - acc: 0.8647 - val_loss: 0.3603 - val_acc: 0.8538\n",
      "Epoch 71/100\n",
      "5359/5359 [==============================] - 2s 396us/step - loss: 0.3313 - acc: 0.8632 - val_loss: 0.3609 - val_acc: 0.8527\n",
      "Epoch 72/100\n",
      "5359/5359 [==============================] - 2s 385us/step - loss: 0.3312 - acc: 0.8634 - val_loss: 0.3602 - val_acc: 0.8538\n",
      "Epoch 73/100\n",
      "5359/5359 [==============================] - 2s 444us/step - loss: 0.3307 - acc: 0.8617 - val_loss: 0.3602 - val_acc: 0.8508\n",
      "Epoch 74/100\n",
      "5359/5359 [==============================] - 2s 383us/step - loss: 0.3309 - acc: 0.8623 - val_loss: 0.3593 - val_acc: 0.8527\n",
      "Epoch 75/100\n",
      "5359/5359 [==============================] - 2s 405us/step - loss: 0.3309 - acc: 0.8627 - val_loss: 0.3601 - val_acc: 0.8527\n",
      "Epoch 76/100\n",
      "5359/5359 [==============================] - 2s 391us/step - loss: 0.3307 - acc: 0.8625 - val_loss: 0.3595 - val_acc: 0.8542\n",
      "Epoch 77/100\n",
      "5359/5359 [==============================] - 2s 386us/step - loss: 0.3306 - acc: 0.8630 - val_loss: 0.3599 - val_acc: 0.8504\n",
      "Epoch 78/100\n",
      "5359/5359 [==============================] - 2s 411us/step - loss: 0.3304 - acc: 0.8625 - val_loss: 0.3592 - val_acc: 0.8520\n",
      "Epoch 79/100\n",
      "5359/5359 [==============================] - 2s 384us/step - loss: 0.3304 - acc: 0.8645 - val_loss: 0.3594 - val_acc: 0.8538\n",
      "Epoch 80/100\n",
      "5359/5359 [==============================] - 2s 450us/step - loss: 0.3301 - acc: 0.8619 - val_loss: 0.3606 - val_acc: 0.8538\n",
      "Epoch 81/100\n",
      "5359/5359 [==============================] - 2s 384us/step - loss: 0.3303 - acc: 0.8649 - val_loss: 0.3598 - val_acc: 0.8550\n",
      "Epoch 82/100\n",
      "5359/5359 [==============================] - 2s 387us/step - loss: 0.3298 - acc: 0.8623 - val_loss: 0.3598 - val_acc: 0.8512\n",
      "Epoch 83/100\n",
      "5359/5359 [==============================] - 2s 419us/step - loss: 0.3297 - acc: 0.8634 - val_loss: 0.3591 - val_acc: 0.8535\n",
      "Epoch 84/100\n",
      "5359/5359 [==============================] - 2s 382us/step - loss: 0.3299 - acc: 0.8634 - val_loss: 0.3596 - val_acc: 0.8546\n",
      "Epoch 85/100\n",
      "5359/5359 [==============================] - 2s 409us/step - loss: 0.3297 - acc: 0.8642 - val_loss: 0.3607 - val_acc: 0.8523\n",
      "Epoch 86/100\n",
      "5359/5359 [==============================] - 2s 437us/step - loss: 0.3301 - acc: 0.8630 - val_loss: 0.3594 - val_acc: 0.8535\n",
      "Epoch 87/100\n",
      "5359/5359 [==============================] - 2s 397us/step - loss: 0.3296 - acc: 0.8634 - val_loss: 0.3601 - val_acc: 0.8535\n",
      "Epoch 88/100\n",
      "5359/5359 [==============================] - 2s 413us/step - loss: 0.3294 - acc: 0.8655 - val_loss: 0.3610 - val_acc: 0.8523\n",
      "Epoch 89/100\n",
      "5359/5359 [==============================] - 2s 388us/step - loss: 0.3296 - acc: 0.8623 - val_loss: 0.3592 - val_acc: 0.8535\n",
      "Epoch 90/100\n",
      "5359/5359 [==============================] - 2s 412us/step - loss: 0.3296 - acc: 0.8628 - val_loss: 0.3598 - val_acc: 0.8527\n",
      "Epoch 91/100\n",
      "5359/5359 [==============================] - 2s 420us/step - loss: 0.3296 - acc: 0.8630 - val_loss: 0.3601 - val_acc: 0.8561\n",
      "Epoch 92/100\n",
      "5359/5359 [==============================] - 2s 397us/step - loss: 0.3296 - acc: 0.8640 - val_loss: 0.3593 - val_acc: 0.8531\n",
      "Epoch 93/100\n",
      "5359/5359 [==============================] - 2s 416us/step - loss: 0.3293 - acc: 0.8643 - val_loss: 0.3596 - val_acc: 0.8542\n",
      "Epoch 94/100\n",
      "5359/5359 [==============================] - 2s 398us/step - loss: 0.3294 - acc: 0.8627 - val_loss: 0.3591 - val_acc: 0.8516\n",
      "Epoch 95/100\n",
      "5359/5359 [==============================] - 2s 413us/step - loss: 0.3293 - acc: 0.8630 - val_loss: 0.3594 - val_acc: 0.8535\n",
      "Epoch 96/100\n",
      "5359/5359 [==============================] - 2s 390us/step - loss: 0.3290 - acc: 0.8640 - val_loss: 0.3598 - val_acc: 0.8516\n",
      "Epoch 97/100\n",
      "5359/5359 [==============================] - 2s 399us/step - loss: 0.3291 - acc: 0.8638 - val_loss: 0.3594 - val_acc: 0.8538\n",
      "Epoch 98/100\n",
      "5359/5359 [==============================] - 2s 406us/step - loss: 0.3287 - acc: 0.8645 - val_loss: 0.3603 - val_acc: 0.8535\n",
      "Epoch 99/100\n",
      "5359/5359 [==============================] - 2s 387us/step - loss: 0.3289 - acc: 0.8630 - val_loss: 0.3593 - val_acc: 0.8523\n",
      "Epoch 100/100\n",
      "5359/5359 [==============================] - 2s 415us/step - loss: 0.3288 - acc: 0.8612 - val_loss: 0.3596 - val_acc: 0.8523\n"
     ]
    }
   ],
   "source": [
    "# Fitting the ANN to the Training set\n",
    "model_history = classifier.fit(x_train, y_train, validation_split=0.33, batch_size=10, epochs = 100)"
   ]
  },
  {
   "cell_type": "code",
   "execution_count": 21,
   "metadata": {},
   "outputs": [
    {
     "name": "stdout",
     "output_type": "stream",
     "text": [
      "dict_keys(['val_loss', 'val_acc', 'loss', 'acc'])\n"
     ]
    }
   ],
   "source": [
    "# list all data in history\n",
    "\n",
    "print(model_history.history.keys())"
   ]
  },
  {
   "cell_type": "code",
   "execution_count": 22,
   "metadata": {},
   "outputs": [
    {
     "data": {
      "image/png": "[encoded data removed]",
      "text/plain": [
       "<matplotlib.figure.Figure at 0x25e5d8ddc88>"
      ]
     },
     "metadata": {},
     "output_type": "display_data"
    }
   ],
   "source": [
    "# summarize history for accuracy\n",
    "plt.plot(model_history.history['acc'])\n",
    "plt.plot(model_history.history['val_acc'])\n",
    "plt.title('model accuracy')\n",
    "plt.ylabel('accuracy')\n",
    "plt.xlabel('epoch')\n",
    "plt.legend(['train', 'validation'], loc='upper left')\n",
    "plt.show()"
   ]
  },
  {
   "cell_type": "code",
   "execution_count": 23,
   "metadata": {},
   "outputs": [
    {
     "data": {
      "image/png": "[encoded data removed]",
      "text/plain": [
       "<matplotlib.figure.Figure at 0x25e5ee7e9e8>"
      ]
     },
     "metadata": {},
     "output_type": "display_data"
    }
   ],
   "source": [
    "# summarize history for loss\n",
    "plt.plot(model_history.history['loss'])\n",
    "plt.plot(model_history.history['val_loss'])\n",
    "plt.title('model loss')\n",
    "plt.ylabel('loss')\n",
    "plt.xlabel('epoch')\n",
    "plt.legend(['train', 'validation'], loc='upper left')\n",
    "plt.show()"
   ]
  },
  {
   "cell_type": "code",
   "execution_count": 24,
   "metadata": {},
   "outputs": [
    {
     "data": {
      "text/plain": [
       "array([[False],\n",
       "       [False],\n",
       "       [False],\n",
       "       ...,\n",
       "       [False],\n",
       "       [False],\n",
       "       [False]])"
      ]
     },
     "execution_count": 24,
     "metadata": {},
     "output_type": "execute_result"
    }
   ],
   "source": [
    "# Predicting the Test set results\n",
    "y_pred = classifier.predict(x_test)\n",
    "y_pred = (y_pred > 0.5)\n",
    "y_pred"
   ]
  },
  {
   "cell_type": "code",
   "execution_count": 25,
   "metadata": {},
   "outputs": [],
   "source": [
    "# Making the Confusion Matrix\n",
    "from sklearn.metrics import confusion_matrix\n",
    "cm = confusion_matrix(y_test, y_pred)"
   ]
  },
  {
   "cell_type": "code",
   "execution_count": 26,
   "metadata": {},
   "outputs": [
    {
     "data": {
      "text/plain": [
       "array([[1523,   72],\n",
       "       [ 206,  199]], dtype=int64)"
      ]
     },
     "execution_count": 26,
     "metadata": {},
     "output_type": "execute_result"
    }
   ],
   "source": [
    "cm"
   ]
  },
  {
   "cell_type": "code",
   "execution_count": 27,
   "metadata": {},
   "outputs": [],
   "source": [
    "# Calculate the Accuracy\n",
    "from sklearn.metrics import accuracy_score\n",
    "score=accuracy_score(y_pred,y_test)"
   ]
  },
  {
   "cell_type": "code",
   "execution_count": 28,
   "metadata": {},
   "outputs": [
    {
     "data": {
      "text/plain": [
       "0.861"
      ]
     },
     "execution_count": 28,
     "metadata": {},
     "output_type": "execute_result"
    }
   ],
   "source": [
    "score"
   ]
  }
 ],
 "metadata": {
  "kernelspec": {
   "display_name": "Python 3",
   "language": "python",
   "name": "python3"
  },
  "language_info": {
   "codemirror_mode": {
    "name": "ipython",
    "version": 3
   },
   "file_extension": ".py",
   "mimetype": "text/x-python",
   "name": "python",
   "nbconvert_exporter": "python",
   "pygments_lexer": "ipython3",
   "version": "3.6.4"
  }
 },
 "nbformat": 4,
 "nbformat_minor": 2
}
